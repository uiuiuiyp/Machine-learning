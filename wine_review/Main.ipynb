{
 "cells": [
  {
   "cell_type": "markdown",
   "metadata": {},
   "source": [
    "# Wine review NLP\n",
    "\n",
    "We try to predict the point given by critics based on their description of the wine. \n",
    "\n",
    "- We use the term frequency - inverse document frequency (tf-idf) to generate features to analyze the data\n",
    "\n",
    "- We do a weighted stochastic linear regression on the features and the points to fit the data.\n",
    "\n",
    "    - Batch gradient descent has to be used because the dataset is too high dimensional. \n",
    "    - The sample data needs to be weighted because the points are distributed heavily around the mean value."
   ]
  },
  {
   "cell_type": "code",
   "execution_count": 1,
   "metadata": {},
   "outputs": [],
   "source": [
    "import pandas as pd\n",
    "import numpy as np\n",
    "import matplotlib as mpl\n",
    "import matplotlib.pyplot as plt\n",
    "import time\n",
    "\n",
    "%matplotlib inline"
   ]
  },
  {
   "cell_type": "code",
   "execution_count": 2,
   "metadata": {},
   "outputs": [],
   "source": [
    "mpl.rcParams['figure.figsize'] = (16.0, 9.0)"
   ]
  },
  {
   "cell_type": "markdown",
   "metadata": {},
   "source": [
    "## Import and preprocess data"
   ]
  },
  {
   "cell_type": "code",
   "execution_count": 3,
   "metadata": {},
   "outputs": [
    {
     "name": "stdout",
     "output_type": "stream",
     "text": [
      "(129971, 13)\n"
     ]
    }
   ],
   "source": [
    "df = pd.read_csv('winemag-data-130k-v2.csv', index_col=0)\n",
    "print (df.shape)"
   ]
  },
  {
   "cell_type": "code",
   "execution_count": 4,
   "metadata": {},
   "outputs": [],
   "source": [
    "df['desc_len'] = df['description'].apply(len)"
   ]
  },
  {
   "cell_type": "code",
   "execution_count": 5,
   "metadata": {},
   "outputs": [
    {
     "data": {
      "text/html": [
       "<div>\n",
       "<style scoped>\n",
       "    .dataframe tbody tr th:only-of-type {\n",
       "        vertical-align: middle;\n",
       "    }\n",
       "\n",
       "    .dataframe tbody tr th {\n",
       "        vertical-align: top;\n",
       "    }\n",
       "\n",
       "    .dataframe thead th {\n",
       "        text-align: right;\n",
       "    }\n",
       "</style>\n",
       "<table border=\"1\" class=\"dataframe\">\n",
       "  <thead>\n",
       "    <tr style=\"text-align: right;\">\n",
       "      <th></th>\n",
       "      <th>country</th>\n",
       "      <th>description</th>\n",
       "      <th>designation</th>\n",
       "      <th>points</th>\n",
       "      <th>price</th>\n",
       "      <th>province</th>\n",
       "      <th>region_1</th>\n",
       "      <th>region_2</th>\n",
       "      <th>taster_name</th>\n",
       "      <th>taster_twitter_handle</th>\n",
       "      <th>title</th>\n",
       "      <th>variety</th>\n",
       "      <th>winery</th>\n",
       "      <th>desc_len</th>\n",
       "    </tr>\n",
       "  </thead>\n",
       "  <tbody>\n",
       "    <tr>\n",
       "      <th>0</th>\n",
       "      <td>Italy</td>\n",
       "      <td>Aromas include tropical fruit, broom, brimston...</td>\n",
       "      <td>Vulkà Bianco</td>\n",
       "      <td>87</td>\n",
       "      <td>NaN</td>\n",
       "      <td>Sicily &amp; Sardinia</td>\n",
       "      <td>Etna</td>\n",
       "      <td>NaN</td>\n",
       "      <td>Kerin O’Keefe</td>\n",
       "      <td>@kerinokeefe</td>\n",
       "      <td>Nicosia 2013 Vulkà Bianco  (Etna)</td>\n",
       "      <td>White Blend</td>\n",
       "      <td>Nicosia</td>\n",
       "      <td>172</td>\n",
       "    </tr>\n",
       "    <tr>\n",
       "      <th>1</th>\n",
       "      <td>Portugal</td>\n",
       "      <td>This is ripe and fruity, a wine that is smooth...</td>\n",
       "      <td>Avidagos</td>\n",
       "      <td>87</td>\n",
       "      <td>15.0</td>\n",
       "      <td>Douro</td>\n",
       "      <td>NaN</td>\n",
       "      <td>NaN</td>\n",
       "      <td>Roger Voss</td>\n",
       "      <td>@vossroger</td>\n",
       "      <td>Quinta dos Avidagos 2011 Avidagos Red (Douro)</td>\n",
       "      <td>Portuguese Red</td>\n",
       "      <td>Quinta dos Avidagos</td>\n",
       "      <td>227</td>\n",
       "    </tr>\n",
       "  </tbody>\n",
       "</table>\n",
       "</div>"
      ],
      "text/plain": [
       "    country                                        description   designation  \\\n",
       "0     Italy  Aromas include tropical fruit, broom, brimston...  Vulkà Bianco   \n",
       "1  Portugal  This is ripe and fruity, a wine that is smooth...      Avidagos   \n",
       "\n",
       "   points  price           province region_1 region_2    taster_name  \\\n",
       "0      87    NaN  Sicily & Sardinia     Etna      NaN  Kerin O’Keefe   \n",
       "1      87   15.0              Douro      NaN      NaN     Roger Voss   \n",
       "\n",
       "  taster_twitter_handle                                          title  \\\n",
       "0          @kerinokeefe              Nicosia 2013 Vulkà Bianco  (Etna)   \n",
       "1            @vossroger  Quinta dos Avidagos 2011 Avidagos Red (Douro)   \n",
       "\n",
       "          variety               winery  desc_len  \n",
       "0     White Blend              Nicosia       172  \n",
       "1  Portuguese Red  Quinta dos Avidagos       227  "
      ]
     },
     "execution_count": 5,
     "metadata": {},
     "output_type": "execute_result"
    }
   ],
   "source": [
    "df.head(2)"
   ]
  },
  {
   "cell_type": "markdown",
   "metadata": {},
   "source": [
    "### Check the distributions of the length of 'description' and 'points'"
   ]
  },
  {
   "cell_type": "code",
   "execution_count": 6,
   "metadata": {},
   "outputs": [
    {
     "data": {
      "image/png": "[encoded data removed]",
      "text/plain": [
       "<Figure size 1152x648 with 1 Axes>"
      ]
     },
     "metadata": {},
     "output_type": "display_data"
    }
   ],
   "source": [
    "u = plt.hist(df.desc_len, bins=40)"
   ]
  },
  {
   "cell_type": "code",
   "execution_count": 7,
   "metadata": {},
   "outputs": [
    {
     "data": {
      "image/png": "[encoded data removed]",
      "text/plain": [
       "<Figure size 1152x648 with 1 Axes>"
      ]
     },
     "metadata": {},
     "output_type": "display_data"
    }
   ],
   "source": [
    "u = plt.hist(df.points, bins=20)"
   ]
  },
  {
   "cell_type": "markdown",
   "metadata": {},
   "source": [
    "### Remove duplicate entries"
   ]
  },
  {
   "cell_type": "code",
   "execution_count": 8,
   "metadata": {},
   "outputs": [
    {
     "name": "stdout",
     "output_type": "stream",
     "text": [
      "Percentage of duplicate entries 7.7%\n"
     ]
    }
   ],
   "source": [
    "m = df.shape[0]\n",
    "print('Percentage of duplicate entries {:.1f}%'.format(100*(m - df.description.nunique())/m))"
   ]
  },
  {
   "cell_type": "code",
   "execution_count": 9,
   "metadata": {
    "scrolled": true
   },
   "outputs": [
    {
     "data": {
      "text/html": [
       "<div>\n",
       "<style scoped>\n",
       "    .dataframe tbody tr th:only-of-type {\n",
       "        vertical-align: middle;\n",
       "    }\n",
       "\n",
       "    .dataframe tbody tr th {\n",
       "        vertical-align: top;\n",
       "    }\n",
       "\n",
       "    .dataframe thead th {\n",
       "        text-align: right;\n",
       "    }\n",
       "</style>\n",
       "<table border=\"1\" class=\"dataframe\">\n",
       "  <thead>\n",
       "    <tr style=\"text-align: right;\">\n",
       "      <th></th>\n",
       "      <th>country</th>\n",
       "      <th>description</th>\n",
       "      <th>designation</th>\n",
       "      <th>points</th>\n",
       "      <th>price</th>\n",
       "      <th>province</th>\n",
       "      <th>region_1</th>\n",
       "      <th>region_2</th>\n",
       "      <th>taster_name</th>\n",
       "      <th>taster_twitter_handle</th>\n",
       "      <th>title</th>\n",
       "      <th>variety</th>\n",
       "      <th>winery</th>\n",
       "      <th>desc_len</th>\n",
       "    </tr>\n",
       "  </thead>\n",
       "  <tbody>\n",
       "    <tr>\n",
       "      <th>13143</th>\n",
       "      <td>US</td>\n",
       "      <td>Cigar box, café au lait, and dried tobacco aro...</td>\n",
       "      <td>Estate Grown</td>\n",
       "      <td>88</td>\n",
       "      <td>30.0</td>\n",
       "      <td>Washington</td>\n",
       "      <td>Red Mountain</td>\n",
       "      <td>Columbia Valley</td>\n",
       "      <td>Sean P. Sullivan</td>\n",
       "      <td>@wawinereport</td>\n",
       "      <td>Ambassador Vineyard 2013 Estate Grown Syrah (R...</td>\n",
       "      <td>Syrah</td>\n",
       "      <td>Ambassador Vineyard</td>\n",
       "      <td>199</td>\n",
       "    </tr>\n",
       "    <tr>\n",
       "      <th>25181</th>\n",
       "      <td>US</td>\n",
       "      <td>Cigar box, café au lait, and dried tobacco aro...</td>\n",
       "      <td>Estate Grown</td>\n",
       "      <td>88</td>\n",
       "      <td>30.0</td>\n",
       "      <td>Washington</td>\n",
       "      <td>Red Mountain</td>\n",
       "      <td>Columbia Valley</td>\n",
       "      <td>Sean P. Sullivan</td>\n",
       "      <td>@wawinereport</td>\n",
       "      <td>Ambassador Vineyard 2013 Estate Grown Syrah (R...</td>\n",
       "      <td>Syrah</td>\n",
       "      <td>Ambassador Vineyard</td>\n",
       "      <td>199</td>\n",
       "    </tr>\n",
       "    <tr>\n",
       "      <th>25182</th>\n",
       "      <td>US</td>\n",
       "      <td>Cigar box, café au lait, and dried tobacco aro...</td>\n",
       "      <td>Estate</td>\n",
       "      <td>88</td>\n",
       "      <td>30.0</td>\n",
       "      <td>Washington</td>\n",
       "      <td>Red Mountain</td>\n",
       "      <td>Columbia Valley</td>\n",
       "      <td>Sean P. Sullivan</td>\n",
       "      <td>@wawinereport</td>\n",
       "      <td>Ambassador Vineyard 2013 Estate Syrah (Red Mou...</td>\n",
       "      <td>Syrah</td>\n",
       "      <td>Ambassador Vineyard</td>\n",
       "      <td>199</td>\n",
       "    </tr>\n",
       "  </tbody>\n",
       "</table>\n",
       "</div>"
      ],
      "text/plain": [
       "      country                                        description  \\\n",
       "13143      US  Cigar box, café au lait, and dried tobacco aro...   \n",
       "25181      US  Cigar box, café au lait, and dried tobacco aro...   \n",
       "25182      US  Cigar box, café au lait, and dried tobacco aro...   \n",
       "\n",
       "        designation  points  price    province      region_1         region_2  \\\n",
       "13143  Estate Grown      88   30.0  Washington  Red Mountain  Columbia Valley   \n",
       "25181  Estate Grown      88   30.0  Washington  Red Mountain  Columbia Valley   \n",
       "25182        Estate      88   30.0  Washington  Red Mountain  Columbia Valley   \n",
       "\n",
       "            taster_name taster_twitter_handle  \\\n",
       "13143  Sean P. Sullivan         @wawinereport   \n",
       "25181  Sean P. Sullivan         @wawinereport   \n",
       "25182  Sean P. Sullivan         @wawinereport   \n",
       "\n",
       "                                                   title variety  \\\n",
       "13143  Ambassador Vineyard 2013 Estate Grown Syrah (R...   Syrah   \n",
       "25181  Ambassador Vineyard 2013 Estate Grown Syrah (R...   Syrah   \n",
       "25182  Ambassador Vineyard 2013 Estate Syrah (Red Mou...   Syrah   \n",
       "\n",
       "                    winery  desc_len  \n",
       "13143  Ambassador Vineyard       199  \n",
       "25181  Ambassador Vineyard       199  \n",
       "25182  Ambassador Vineyard       199  "
      ]
     },
     "execution_count": 9,
     "metadata": {},
     "output_type": "execute_result"
    }
   ],
   "source": [
    "# Count unique values\n",
    "cnts = df.description.value_counts()\n",
    "cnts[cnts > 1]\n",
    "\n",
    "# Check if the duplicate descriptions refer to the same wine\n",
    "# (i.e. maybe the same description was used by a lazy taster)\n",
    "text = cnts.index[0]\n",
    "df[df.description == text]"
   ]
  },
  {
   "cell_type": "code",
   "execution_count": 10,
   "metadata": {},
   "outputs": [
    {
     "data": {
      "text/plain": [
       "(119955, 14)"
      ]
     },
     "execution_count": 10,
     "metadata": {},
     "output_type": "execute_result"
    }
   ],
   "source": [
    "# Drop rows that have the same description\n",
    "df = df.drop_duplicates(subset='description')\n",
    "df.shape"
   ]
  },
  {
   "cell_type": "markdown",
   "metadata": {},
   "source": [
    "## TF-IDF feature generation"
   ]
  },
  {
   "cell_type": "code",
   "execution_count": 11,
   "metadata": {},
   "outputs": [],
   "source": [
    "\"\"\" Feature engineering:\n",
    "Use Term Frequency - Inverse Document Frequency (TF-IDF) to create features\n",
    "\"\"\"\n",
    "from sklearn.feature_extraction.text import TfidfVectorizer\n",
    "from sklearn.model_selection import train_test_split, GridSearchCV\n",
    "from sklearn.linear_model import SGDRegressor\n",
    "from sklearn.pipeline import Pipeline\n",
    "from sklearn.metrics import mean_squared_error"
   ]
  },
  {
   "cell_type": "code",
   "execution_count": 12,
   "metadata": {},
   "outputs": [
    {
     "name": "stdout",
     "output_type": "stream",
     "text": [
      "(83968,)\n",
      "(35987,)\n"
     ]
    }
   ],
   "source": [
    "# Generate features (X) and labels (y)\n",
    "X = df.description\n",
    "point_mean = df.points.mean()\n",
    "point_std = df.points.std()\n",
    "y = (df.points - point_mean) / point_std\n",
    "\n",
    "X_train, X_test, y_train, y_test = train_test_split(X, y, test_size=0.3)\n",
    "print(X_train.shape)\n",
    "print(X_test.shape)"
   ]
  },
  {
   "cell_type": "code",
   "execution_count": 13,
   "metadata": {},
   "outputs": [
    {
     "name": "stdout",
     "output_type": "stream",
     "text": [
      "Time to train vectorizer and transform training text: 11.92s\n"
     ]
    }
   ],
   "source": [
    "# Generate tf-idf features\n",
    "n = 3\n",
    "tfv = TfidfVectorizer(min_df=3,                # minimum document frequency of the word\n",
    "                      max_features=None,\n",
    "                      analyzer='word',\n",
    "                      token_pattern=r'\\w{1,}', # alphanumeric character + 1 or more repetition\n",
    "                      ngram_range=(1,n),       # make vocabulary with 1 to 3 words ngram\n",
    "                      use_idf=1,               # use inverse document frequency\n",
    "                      smooth_idf=1, \n",
    "                      sublinear_tf=1,\n",
    "                      stop_words = 'english'\n",
    "                     )\n",
    "\n",
    "start = time.time()\n",
    "X_train_vect = tfv.fit_transform(X_train)\n",
    "end = time.time()\n",
    "\n",
    "print('Time to train vectorizer and transform training text: %0.2fs' % (end - start))"
   ]
  },
  {
   "cell_type": "markdown",
   "metadata": {},
   "source": [
    "## Model fit: without sample weighting"
   ]
  },
  {
   "cell_type": "code",
   "execution_count": 14,
   "metadata": {
    "scrolled": true
   },
   "outputs": [
    {
     "name": "stdout",
     "output_type": "stream",
     "text": [
      "Time to train model: 7.89s\n"
     ]
    }
   ],
   "source": [
    "# The SGDRegressor is faster than the conventional LinearRegressor\n",
    "model = SGDRegressor(loss='squared_loss', max_iter=5)\n",
    "params = {'penalty':['none','l1','l2'],\n",
    "          'alpha': np.logspace(-4, -1, 5)}\n",
    "gs = GridSearchCV(estimator=model,\n",
    "                  param_grid=params,\n",
    "                  scoring='neg_mean_squared_error',\n",
    "                  n_jobs=-1,\n",
    "                  cv=5)\n",
    "\n",
    "start = time.time()\n",
    "gs.fit(X_train_vect, y_train)\n",
    "end = time.time()\n",
    "print('Time to train model: %0.2fs' % (end -start))"
   ]
  },
  {
   "cell_type": "code",
   "execution_count": 15,
   "metadata": {},
   "outputs": [
    {
     "name": "stdout",
     "output_type": "stream",
     "text": [
      "best alpha: 0.1000\n",
      "best score: -0.849\n"
     ]
    }
   ],
   "source": [
    "# Check the best parameter and score\n",
    "model = gs.best_estimator_\n",
    "print('best alpha: {:.4f}'.format(gs.best_params_['alpha']))\n",
    "print('best score: {:.3f}'.format(gs.best_score_))"
   ]
  },
  {
   "cell_type": "code",
   "execution_count": 16,
   "metadata": {},
   "outputs": [
    {
     "name": "stdout",
     "output_type": "stream",
     "text": [
      "Time to generate predictions on test set: 1.95s\n"
     ]
    }
   ],
   "source": [
    "# Generate predictions using scikit-learn's pipeline\n",
    "pipe = Pipeline([('vect', tfv), ('model', model)])\n",
    "start = time.time()\n",
    "y_pred = pipe.predict(X_test)\n",
    "end = time.time()\n",
    "\n",
    "print('Time to generate predictions on test set: %0.2fs' % (end - start))"
   ]
  },
  {
   "cell_type": "code",
   "execution_count": 17,
   "metadata": {},
   "outputs": [
    {
     "name": "stdout",
     "output_type": "stream",
     "text": [
      "mean squared error: 2.52\n"
     ]
    }
   ],
   "source": [
    "# Check the mean squared error\n",
    "error = point_std * mean_squared_error(y_test, y_pred)\n",
    "print('mean squared error: {:.2f}'.format(error))"
   ]
  },
  {
   "cell_type": "code",
   "execution_count": 18,
   "metadata": {},
   "outputs": [
    {
     "data": {
      "text/plain": [
       "<matplotlib.legend.Legend at 0x7fa63c47a7b8>"
      ]
     },
     "execution_count": 18,
     "metadata": {},
     "output_type": "execute_result"
    },
    {
     "data": {
      "image/png": "[encoded data removed]",
      "text/plain": [
       "<Figure size 1152x648 with 1 Axes>"
      ]
     },
     "metadata": {},
     "output_type": "display_data"
    }
   ],
   "source": [
    "# Plot the distribution of scores \n",
    "def to_point(y):\n",
    "    return y * point_std + point_mean\n",
    "\n",
    "bins = np.linspace(80, 100, 20)\n",
    "\n",
    "fig = plt.figure()\n",
    "ax = plt.gca()\n",
    "ax.hist(to_point(y_pred), bins=bins, alpha=0.3, color='b', label='prediction')\n",
    "ax.hist(to_point(y_test), bins=bins, alpha=0.3, color='g', label='true')\n",
    "ax.legend(prop={'size':15})\n"
   ]
  },
  {
   "cell_type": "markdown",
   "metadata": {},
   "source": [
    "- If we don't use sample weights, the model simply predicts average value."
   ]
  },
  {
   "cell_type": "code",
   "execution_count": 19,
   "metadata": {},
   "outputs": [],
   "source": [
    "# Build a list of vocabulary outputs of tf-idf vectorizer\n",
    "import operator\n",
    "sorted_dict = sorted(tfv.vocabulary_.items(), key=operator.itemgetter(1))\n",
    "indices_word = list(list(zip(*sorted_dict))[0])"
   ]
  },
  {
   "cell_type": "code",
   "execution_count": 20,
   "metadata": {
    "scrolled": false
   },
   "outputs": [
    {
     "data": {
      "text/plain": [
       "<matplotlib.axes._subplots.AxesSubplot at 0x7fa64a8ed400>"
      ]
     },
     "execution_count": 20,
     "metadata": {},
     "output_type": "execute_result"
    },
    {
     "data": {
      "image/png": "[encoded data removed]",
      "text/plain": [
       "<Figure size 1152x648 with 1 Axes>"
      ]
     },
     "metadata": {},
     "output_type": "display_data"
    }
   ],
   "source": [
    "coef = pd.Series(model.coef_, index = indices_word)\n",
    "num_coef = 15\n",
    "imp_coef = pd.concat([coef.sort_values().head(num_coef),\n",
    "                      coef.sort_values().tail(num_coef)])\n",
    "\n",
    "plt.figure()\n",
    "imp_coef.plot(kind='barh')"
   ]
  },
  {
   "cell_type": "markdown",
   "metadata": {},
   "source": [
    "- Some of the \"positive\" and \"negative\" words make sense but neutral words like \"vineyard\" and \"aromas\" are wrongly attributed as positive and negative words, respectively."
   ]
  },
  {
   "cell_type": "markdown",
   "metadata": {},
   "source": [
    "## Model fit: with sample weighting\n",
    "\n",
    "- Sample weighting gives more weights that are further away from the mean score (~88).\n",
    "- This matters because the sample \"points\" are not evenly distributed."
   ]
  },
  {
   "cell_type": "code",
   "execution_count": 21,
   "metadata": {},
   "outputs": [
    {
     "name": "stdout",
     "output_type": "stream",
     "text": [
      "Time to train model: 4.31s\n"
     ]
    }
   ],
   "source": [
    "## Model fit: without sample_weight\n",
    "model2 = SGDRegressor(loss='squared_loss', max_iter=5)\n",
    "params = {'penalty':['none','l2'],\n",
    "          'alpha': np.logspace(-4, -1, 5)}\n",
    "gs2 = GridSearchCV(estimator=model,\n",
    "                  param_grid=params,\n",
    "                  scoring='neg_mean_squared_error',\n",
    "                  n_jobs=-1,\n",
    "                  cv=5)\n",
    "\n",
    "start = time.time()\n",
    "gs2.fit(X_train_vect, y_train, sample_weight=10*np.abs(y_train)**2 + 0.02)\n",
    "end = time.time()\n",
    "print('Time to train model: %0.2fs' % (end -start))"
   ]
  },
  {
   "cell_type": "code",
   "execution_count": 22,
   "metadata": {},
   "outputs": [
    {
     "name": "stdout",
     "output_type": "stream",
     "text": [
      "best alpha: 0.0032\n",
      "best score: -0.442\n"
     ]
    }
   ],
   "source": [
    "# Check the best parameter and score\n",
    "model2 = gs2.best_estimator_\n",
    "print('best alpha: {:.4f}'.format(gs2.best_params_['alpha']))\n",
    "print('best score: {:.3f}'.format(gs2.best_score_))"
   ]
  },
  {
   "cell_type": "code",
   "execution_count": 23,
   "metadata": {},
   "outputs": [
    {
     "name": "stdout",
     "output_type": "stream",
     "text": [
      "Time to generate predictions on test set: 1.94s\n"
     ]
    }
   ],
   "source": [
    "# Generate predictions using scikit-learn's pipeline\n",
    "pipe2 = Pipeline([('vect', tfv), ('model', model2)])\n",
    "start = time.time()\n",
    "y_pred2 = pipe2.predict(X_test)\n",
    "end = time.time()\n",
    "\n",
    "print('Time to generate predictions on test set: %0.2fs' % (end - start))"
   ]
  },
  {
   "cell_type": "code",
   "execution_count": 24,
   "metadata": {},
   "outputs": [
    {
     "name": "stdout",
     "output_type": "stream",
     "text": [
      "mean squared error: 1.38\n",
      "1.383960970258276\n"
     ]
    }
   ],
   "source": [
    "# Check the mean squared error\n",
    "error2 = point_std * mean_squared_error(y_test, y_pred2)\n",
    "print('mean squared error: {:.2f}'.format(error2))\n",
    "\n",
    "print(point_std * mean_squared_error(y_test, y_pred2))"
   ]
  },
  {
   "cell_type": "code",
   "execution_count": 25,
   "metadata": {},
   "outputs": [
    {
     "data": {
      "text/plain": [
       "<matplotlib.axes._subplots.AxesSubplot at 0x7fa647de69b0>"
      ]
     },
     "execution_count": 25,
     "metadata": {},
     "output_type": "execute_result"
    },
    {
     "data": {
      "image/png": "[encoded data removed]",
      "text/plain": [
       "<Figure size 1152x648 with 1 Axes>"
      ]
     },
     "metadata": {},
     "output_type": "display_data"
    },
    {
     "data": {
      "image/png": "[encoded data removed]",
      "text/plain": [
       "<Figure size 1152x648 with 1 Axes>"
      ]
     },
     "metadata": {},
     "output_type": "display_data"
    }
   ],
   "source": [
    "# Plot histogram of predicted score\n",
    "fig = plt.figure()\n",
    "ax = plt.gca()\n",
    "ax.hist(to_point(y_pred2), bins=bins, alpha=0.3, color='b', label='prediction')\n",
    "ax.hist(to_point(y_test),  bins=bins, alpha=0.3, color='g', label='true')\n",
    "ax.legend(prop={'size':15})\n",
    "\n",
    "# Plot the most important coefficients\n",
    "coef = pd.Series(model2.coef_, index = indices_word)\n",
    "num_coef = 15\n",
    "imp_coef = pd.concat([coef.sort_values().head(num_coef),\n",
    "                      coef.sort_values().tail(num_coef)])\n",
    "\n",
    "plt.figure()\n",
    "imp_coef.plot(kind='barh')"
   ]
  }
 ],
 "metadata": {
  "kernelspec": {
   "display_name": "Python 3",
   "language": "python",
   "name": "python3"
  },
  "language_info": {
   "codemirror_mode": {
    "name": "ipython",
    "version": 3
   },
   "file_extension": ".py",
   "mimetype": "text/x-python",
   "name": "python",
   "nbconvert_exporter": "python",
   "pygments_lexer": "ipython3",
   "version": "3.5.2"
  }
 },
 "nbformat": 4,
 "nbformat_minor": 2
}
